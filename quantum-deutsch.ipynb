{
 "cells": [
  {
   "cell_type": "markdown",
   "id": "4f05a6f6",
   "metadata": {},
   "source": [
    "# Quantum Computing\n",
    "***"
   ]
  },
  {
   "cell_type": "markdown",
   "id": "05020b3f",
   "metadata": {},
   "source": [
    "### History and Overview"
   ]
  },
  {
   "cell_type": "markdown",
   "id": "68215645",
   "metadata": {},
   "source": [
    "Computing has come a long way since the invention of the abacus that some consider the first computer. In the last 100 years the rate of evolution of technology has launched mankind into a new age. In 1965, Gordon Moore said that the number of transistors in a circuit would double every two years. This still holds true if you take it as meaning expenetial improvement rather than specific parameters like transistors."
   ]
  },
  {
   "cell_type": "markdown",
   "id": "d521face",
   "metadata": {},
   "source": [
    "The smallest processor ever built has been 3nm but there are talks of a 1nm on coming in the near future. These tiny spaces are approaching the atom, which is theoretically the limit.\n",
    "A computer in simple terms, performs an extremely large amount of very basic operations. Each one of them take barely any power to perform and don't mean much by themselves but when there are so many they can be used to work together and produce everything we use computers for now.\n",
    "Transistors are like an on or off switch that tells the computer if a bit is 0 or 1, on for 1 and off for 0. Multiple switches can form logic gates that perform different operations. From there you can use and combination or logic gates to create the programs we have today. \n",
    "To get these even faster, and get past the increasingly difficulty of creating smaller and smaller processors. Quantum computing was invented."
   ]
  },
  {
   "cell_type": "markdown",
   "id": "0627dd56",
   "metadata": {},
   "source": [
    "Computers that perform quantum computations are called quantum computers.\n",
    "These can perform quantum mechanics operations like superposition, interference and entaglement. The current ones are't developed enough to compete with classical computers in everyday life but Google has said that it's quantum computer is roughly 158 million times faster than a supercomputer"
   ]
  },
  {
   "cell_type": "markdown",
   "id": "1c260fd9",
   "metadata": {},
   "source": [
    "### What is Quantum Computing?"
   ]
  },
  {
   "cell_type": "markdown",
   "id": "295f2e75",
   "metadata": {},
   "source": [
    "Quantum computers use qubits instead of normal bits, these can also be set to either 0 or 1 but instead of being in either state, qubits can be in either position unless it is observed and has to decide on its value. This is called **superposition**."
   ]
  },
  {
   "cell_type": "markdown",
   "id": "e77c8fe0",
   "metadata": {},
   "source": [
    "4 normal bits can give you 16 different combinations of 1's and 0's.\n",
    "\n",
    "4 Qubits in superposition can be every of the 16 combinations at the same time if unobserved.\n",
    "\n",
    "This allows qubits to give a lot more information.\n",
    "**Entaglement** also allows even more powerful calculation. Qubits can have a connection with another qubit that allows it to instantly make the other qubit decide on a value when itself decides on a value.\n",
    "\n",
    "Quantum computers have their own logic gate as well called ***Quantum Gates***.\n",
    "These Gates manipulate a series of superpositions to change the probability of what they will change to so they can predict what they will land on. This lets you get the answer to multiple operations at the same time."
   ]
  },
  {
   "cell_type": "markdown",
   "id": "a0e7201d",
   "metadata": {},
   "source": [
    "### Classical Computing vs. Quantum computing"
   ]
  },
  {
   "cell_type": "markdown",
   "id": "6ee0753a",
   "metadata": {},
   "source": [
    "While a lot faster at certain computation, it is hard to apply quantum computers to everyday problems right now because of how little is known about it. Both types of computers have there own strengths and differences to here is a few of the key areas where they do differ.\n",
    "\n",
    "**Classical Computers**\n",
    "1. Data breaks down in its smallest for to just multiple operations of on or off/1 or 0. These are done with transitors with each transitor being 1 or 0.\n",
    "\n",
    "2. Power with qubits increases exponetially, with just 20 qubits you can have over a million different values at once.\n",
    "\n",
    "3. While very fast, the quantum computer has a high error rate and needs to be kept very cold to run. This makes them difficult to commercialise.\n",
    "\n",
    "4. Quantum computers are currently seen as well suited for simulations and data analysis.\n",
    "\n",
    "**Quantum Computers**\n",
    "1. Instead of normal bits, quantum computers use qubits that can represent both states 0 or 1 at once. Combined with Entaglement and Quantum Gates. This allows for much faster computation.\n",
    "\n",
    "2. The power increase for classical computers is directly related to the amount of transistors so it is a 1: ratio with power to transistors.\n",
    "\n",
    "3. These computers in comparison have a low error rate and can perform at room temperature easily. This makes them a lot more comsumer friendly to adopt.\n",
    "\n",
    "4. The amount of useful applications is a lot more open for classical computers. They tend to excel in every place that a quantum computer can't and vice versa for the time being."
   ]
  },
  {
   "cell_type": "markdown",
   "id": "98209d4f",
   "metadata": {},
   "source": [
    "# Deutsch's Algorithm\n",
    "***"
   ]
  },
  {
   "cell_type": "code",
   "execution_count": null,
   "id": "2c852318",
   "metadata": {},
   "outputs": [],
   "source": []
  }
 ],
 "metadata": {
  "kernelspec": {
   "display_name": "Python 3",
   "language": "python",
   "name": "python3"
  },
  "language_info": {
   "codemirror_mode": {
    "name": "ipython",
    "version": 3
   },
   "file_extension": ".py",
   "mimetype": "text/x-python",
   "name": "python",
   "nbconvert_exporter": "python",
   "pygments_lexer": "ipython3",
   "version": "3.8.8"
  }
 },
 "nbformat": 4,
 "nbformat_minor": 5
}
