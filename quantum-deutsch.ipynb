{
 "cells": [
  {
   "cell_type": "markdown",
   "id": "da9dd6f8",
   "metadata": {},
   "source": [
    "# Quantum Computing\n",
    "***"
   ]
  },
  {
   "cell_type": "markdown",
   "id": "cd5dba4e",
   "metadata": {},
   "source": [
    "### History and Overview"
   ]
  },
  {
   "cell_type": "markdown",
   "id": "c9bca569",
   "metadata": {},
   "source": [
    "Computing has come a long way since the invention of the abacus that some consider the first computer. In the last 100 years the rate of evolution of technology has launched mankind into a new age. In 1965, Gordon Moore said that the number of transistors in a circuit would double every two years. This still holds true if you take it as meaning expenetial improvement rather than specific parameters like transistors."
   ]
  },
  {
   "cell_type": "markdown",
   "id": "332f5cba",
   "metadata": {},
   "source": [
    "The smallest processor ever built has been 3nm but there are talks of a 1nm on coming in the near future. These tiny spaces are approaching the atom, which is theoretically the limit.\n",
    "A computer in simple terms, performs an extremely large amount of very basic operations. Each one of them take barely any power to perform and don't mean much by themselves but when there are so many they can be used to work together and produce everything we use computers for now.\n",
    "Transistors are like an on or off switch that tells the computer if a bit is 0 or 1, on for 1 and off for 0. Multiple switches can form logic gates that perform different operations. From there you can use and combination or logic gates to create the programs we have today. \n",
    "To get these even faster, and get past the increasingly difficulty of creating smaller and smaller processors. Quantum computing was invented."
   ]
  },
  {
   "cell_type": "markdown",
   "id": "294fa6c6",
   "metadata": {},
   "source": [
    "Computers that perform quantum computations are called quantum computers.\n",
    "These can perform quantum mechanics operations like superposition, interference and entaglement. The current ones are't developed enough to compete with classical computers in everyday life but Google has said that it's quantum computer is roughly 158 million times faster than a supercomputer"
   ]
  },
  {
   "cell_type": "markdown",
   "id": "80c7fddf",
   "metadata": {},
   "source": [
    "### What is Quantum Computing?"
   ]
  },
  {
   "cell_type": "markdown",
   "id": "9bfcc152",
   "metadata": {},
   "source": [
    "Quantum computers use qubits instead of normal bits, these can also be set to either 0 or 1 but instead of being in either state, qubits can be in either position unless it is observed and has to decide on its value. This is called **superposition**."
   ]
  },
  {
   "cell_type": "markdown",
   "id": "fe87c07a",
   "metadata": {},
   "source": [
    "4 normal bits can give you 16 different combinations of 1's and 0's.\n",
    "\n",
    "4 Qubits in superposition can be every of the 16 combinations at the same time if unobserved.\n",
    "\n",
    "This allows qubits to give a lot more information.\n",
    "**Entaglement** also allows even more powerful calculation. Qubits can have a connection with another qubit that allows it to instantly make the other qubit decide on a value when itself decides on a value.\n",
    "\n",
    "Quantum computers have their own logic gate as well called ***Quantum Gates***.\n",
    "These Gates manipulate a series of superpositions to change the probability of what they will change to so they can predict what they will land on. This lets you get the answer to multiple operations at the same time."
   ]
  },
  {
   "cell_type": "code",
   "execution_count": null,
   "id": "43e48c98",
   "metadata": {},
   "outputs": [],
   "source": []
  }
 ],
 "metadata": {
  "kernelspec": {
   "display_name": "Python 3",
   "language": "python",
   "name": "python3"
  },
  "language_info": {
   "codemirror_mode": {
    "name": "ipython",
    "version": 3
   },
   "file_extension": ".py",
   "mimetype": "text/x-python",
   "name": "python",
   "nbconvert_exporter": "python",
   "pygments_lexer": "ipython3",
   "version": "3.8.8"
  }
 },
 "nbformat": 4,
 "nbformat_minor": 5
}
