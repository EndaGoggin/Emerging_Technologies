{
 "cells": [
  {
   "cell_type": "markdown",
   "id": "94a2b5e6",
   "metadata": {},
   "source": [
    "# Quantum Computing\n",
    "***"
   ]
  },
  {
   "cell_type": "markdown",
   "id": "345e4c75",
   "metadata": {},
   "source": [
    "### History and Overview"
   ]
  },
  {
   "cell_type": "markdown",
   "id": "95bb7241",
   "metadata": {},
   "source": [
    "Computing has come a long way since the invention of the abacus that some consider the first computer. In the last 100 years the rate of evolution of technology has launched mankind into a new age. In 1965, Gordon Moore said that the number of transistors in a circuit would double every two years. This still holds true if you take it as meaning expenetial improvement rather than specific parameters like transistors."
   ]
  },
  {
   "cell_type": "markdown",
   "id": "65da2bb7",
   "metadata": {},
   "source": [
    "The smallest processor ever built has been 3nm but there are talks of a 1nm on coming in the near future. These tiny spaces are approaching the atom, which is theoretically the limit.\n",
    "A computer in simple terms, performs an extremely large amount of very basic operations. Each one of them take barely any power to perform and don't mean much by themselves but when there are so many they can be used to work together and produce everything we use computers for now.\n",
    "Transistors are like an on or off switch that tells the computer if a bit is 0 or 1, on for 1 and off for 0. Multiple switches can form logic gates that perform different operations. From there you can use and combination or logic gates to create the programs we have today. \n",
    "To get these even faster, and get past the increasingly difficulty of creating smaller and smaller processors. Quantum computing was invented."
   ]
  },
  {
   "cell_type": "markdown",
   "id": "a477577a",
   "metadata": {},
   "source": [
    "Computers that perform quantum computations are called quantum computers.\n",
    "These can perform quantum mechanics operations like superposition, interference and entaglement. The current ones are't developed enough to compete with classical computers in everyday life but Google has said that it's quantum computer is roughly 158 million times faster than a supercomputer"
   ]
  },
  {
   "cell_type": "markdown",
   "id": "d15924b4",
   "metadata": {},
   "source": [
    "### What is Quantum Computing?"
   ]
  },
  {
   "cell_type": "markdown",
   "id": "315d55dd",
   "metadata": {},
   "source": [
    "Quantum computers use qubits instead of normal bits, these can also be set to either 0 or 1 but instead of being in either state, qubits can be in either position unless it is observed and has to decide on its value. This is called **superposition**."
   ]
  },
  {
   "cell_type": "markdown",
   "id": "581d217b",
   "metadata": {},
   "source": [
    "4 normal bits can give you 16 different combinations of 1's and 0's.\n",
    "\n",
    "4 Qubits in superposition can be every of the 16 combinations at the same time if unobserved.\n",
    "\n",
    "This allows qubits to give a lot more information.\n",
    "**Entaglement** also allows even more powerful calculation. Qubits can have a connection with another qubit that allows it to instantly make the other qubit decide on a value when itself decides on a value.\n",
    "\n",
    "Quantum computers have their own logic gate as well called ***Quantum Gates***.\n",
    "These Gates manipulate a series of superpositions to change the probability of what they will change to so they can predict what they will land on. This lets you get the answer to multiple operations at the same time."
   ]
  },
  {
   "cell_type": "markdown",
   "id": "ace6190d",
   "metadata": {},
   "source": [
    "### Classical Computing vs. Quantum computing"
   ]
  },
  {
   "cell_type": "markdown",
   "id": "22321be8",
   "metadata": {},
   "source": [
    "While a lot faster at certain computation, it is hard to apply quantum computers to everyday problems right now because of how little is known about it. Both types of computers have there own strengths and differences to here is a few of the key areas where they do differ.\n",
    "\n",
    "**Classical Computers**\n",
    "1. Data breaks down in its smallest for to just multiple operations of on or off/1 or 0. These are done with transitors with each transitor being 1 or 0.\n",
    "\n",
    "2. Power with qubits increases exponetially, with just 20 qubits you can have over a million different values at once.\n",
    "\n",
    "3. While very fast, the quantum computer has a high error rate and needs to be kept very cold to run. This makes them difficult to commercialise.\n",
    "\n",
    "4. Quantum computers are currently seen as well suited for simulations and data analysis.\n",
    "\n",
    "**Quantum Computers**\n",
    "1. Instead of normal bits, quantum computers use qubits that can represent both states 0 or 1 at once. Combined with Entaglement and Quantum Gates. This allows for much faster computation.\n",
    "\n",
    "2. The power increase for classical computers is directly related to the amount of transistors so it is a 1: ratio with power to transistors.\n",
    "\n",
    "3. These computers in comparison have a low error rate and can perform at room temperature easily. This makes them a lot more comsumer friendly to adopt.\n",
    "\n",
    "4. The amount of useful applications is a lot more open for classical computers. They tend to excel in every place that a quantum computer can't and vice versa for the time being."
   ]
  },
  {
   "cell_type": "markdown",
   "id": "da283701",
   "metadata": {},
   "source": [
    "# Deutsch's Algorithm\n",
    "***"
   ]
  },
  {
   "cell_type": "markdown",
   "id": "ad2e476f",
   "metadata": {},
   "source": [
    "Deutsch's algorithm was first introduced in 1992 by David Deutsch. It was one of the first algorithms to show how much faster quantum computers where in comparison to classical ones. It was purposely design to show the speed of quantum computers over classical."
   ]
  },
  {
   "cell_type": "markdown",
   "id": "f7f9f09f",
   "metadata": {},
   "source": [
    "### The problem "
   ]
  },
  {
   "cell_type": "markdown",
   "id": "8403cc9b",
   "metadata": {},
   "source": [
    "In the problem you are given a black box quantum computer called oracle that has the function below."
   ]
  },
  {
   "attachments": {
    "f713c7fab3c3cb60f59ac3ca1cafddb734b927bd.svg": {
     "image/svg+xml": [
      "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"
     ]
    }
   },
   "cell_type": "markdown",
   "id": "34eb6ac4",
   "metadata": {},
   "source": [
    "![f713c7fab3c3cb60f59ac3ca1cafddb734b927bd.svg](attachment:f713c7fab3c3cb60f59ac3ca1cafddb734b927bd.svg)"
   ]
  },
  {
   "cell_type": "markdown",
   "id": "bd0c95f8",
   "metadata": {},
   "source": [
    "This function takes an *n* number of bits and outputs wither a 0 or 1 for each bit. The function is promised to be either constant or balanced. Meaning all inputs are either 0 or 1 for constant, or they are half and half with 0 and 1. The problem then asks to prove if $f$ is constant or balanced."
   ]
  },
  {
   "cell_type": "markdown",
   "id": "633dd34e",
   "metadata": {},
   "source": [
    "### Deutsch's Algorithm with Qiskit"
   ]
  },
  {
   "cell_type": "code",
   "execution_count": 1,
   "id": "742e9c38",
   "metadata": {},
   "outputs": [],
   "source": [
    "# Qiskit itself\n",
    "import qiskit\n",
    "\n",
    "# Aer simulator.\n",
    "import qiskit.providers.aer as aer\n",
    "\n",
    "# Diagrams.\n",
    "import matplotlib.pyplot as plt\n",
    "\n",
    "# Random numbers.\n",
    "import random\n",
    "\n",
    "# Change pyplot style.\n",
    "plt.style.use('ggplot')"
   ]
  },
  {
   "cell_type": "markdown",
   "id": "27124914",
   "metadata": {},
   "source": [
    "### Constant Zero"
   ]
  },
  {
   "cell_type": "code",
   "execution_count": 2,
   "id": "b64b982a",
   "metadata": {},
   "outputs": [],
   "source": [
    "# Create a quantum circuit.\n",
    "circuit = qiskit.QuantumCircuit(2, 1)"
   ]
  },
  {
   "cell_type": "code",
   "execution_count": 3,
   "id": "dcb36586",
   "metadata": {},
   "outputs": [
    {
     "data": {
      "text/plain": [
       "<qiskit.circuit.instructionset.InstructionSet at 0x2df858a3ac0>"
      ]
     },
     "execution_count": 3,
     "metadata": {},
     "output_type": "execute_result"
    }
   ],
   "source": [
    "# Initialise the first qubit to |0>.\n",
    "circuit.initialize([1, 0], 0)"
   ]
  },
  {
   "cell_type": "code",
   "execution_count": 4,
   "id": "6d1fc04d",
   "metadata": {},
   "outputs": [
    {
     "data": {
      "text/plain": [
       "<qiskit.circuit.instructionset.InstructionSet at 0x2df858a3b50>"
      ]
     },
     "execution_count": 4,
     "metadata": {},
     "output_type": "execute_result"
    }
   ],
   "source": [
    "# Initialise the second qubit to |1>.\n",
    "circuit.initialize([0, 1], 1)"
   ]
  },
  {
   "cell_type": "code",
   "execution_count": 5,
   "id": "fba93857",
   "metadata": {},
   "outputs": [
    {
     "data": {
      "text/plain": [
       "<qiskit.circuit.instructionset.InstructionSet at 0x2df858a33d0>"
      ]
     },
     "execution_count": 5,
     "metadata": {},
     "output_type": "execute_result"
    }
   ],
   "source": [
    "# Apply a Hadamard gate to first qubit.\n",
    "circuit.h(0)"
   ]
  },
  {
   "cell_type": "code",
   "execution_count": 6,
   "id": "3c14063a",
   "metadata": {},
   "outputs": [
    {
     "data": {
      "text/plain": [
       "<qiskit.circuit.instructionset.InstructionSet at 0x2df858a3ca0>"
      ]
     },
     "execution_count": 6,
     "metadata": {},
     "output_type": "execute_result"
    }
   ],
   "source": [
    "# Apply a Hadamard gate to second qubit.\n",
    "circuit.h(1)"
   ]
  },
  {
   "cell_type": "code",
   "execution_count": 7,
   "id": "c2f95693",
   "metadata": {},
   "outputs": [
    {
     "data": {
      "text/plain": [
       "<qiskit.circuit.instructionset.InstructionSet at 0x2df858a3a00>"
      ]
     },
     "execution_count": 7,
     "metadata": {},
     "output_type": "execute_result"
    }
   ],
   "source": [
    "# Identity gate.\n",
    "circuit.i(1)"
   ]
  },
  {
   "cell_type": "code",
   "execution_count": 8,
   "id": "9ebebdec",
   "metadata": {},
   "outputs": [
    {
     "data": {
      "text/plain": [
       "<qiskit.circuit.instructionset.InstructionSet at 0x2df858a38b0>"
      ]
     },
     "execution_count": 8,
     "metadata": {},
     "output_type": "execute_result"
    }
   ],
   "source": [
    "# Apply another Hadamard gate to the first qubit.\n",
    "circuit.h(0)"
   ]
  },
  {
   "cell_type": "code",
   "execution_count": 9,
   "id": "c371715f",
   "metadata": {},
   "outputs": [
    {
     "data": {
      "text/plain": [
       "<qiskit.circuit.instructionset.InstructionSet at 0x2df858a3d60>"
      ]
     },
     "execution_count": 9,
     "metadata": {},
     "output_type": "execute_result"
    }
   ],
   "source": [
    "# Measure the first qubit.\n",
    "circuit.measure(0, 0)"
   ]
  },
  {
   "cell_type": "code",
   "execution_count": 10,
   "id": "9cdefc31",
   "metadata": {},
   "outputs": [
    {
     "data": {
      "image/png": "[encoded data removed]",
      "text/plain": [
       "<Figure size 589.054x368.424 with 1 Axes>"
      ]
     },
     "execution_count": 10,
     "metadata": {},
     "output_type": "execute_result"
    }
   ],
   "source": [
    "# Draw the circuit.\n",
    "circuit.draw(output='mpl', scale=1.8)"
   ]
  },
  {
   "cell_type": "code",
   "execution_count": 11,
   "id": "e6eeec9a",
   "metadata": {},
   "outputs": [],
   "source": [
    "# Create a simulation instance.\n",
    "simulator = aer.QasmSimulator()"
   ]
  },
  {
   "cell_type": "code",
   "execution_count": 12,
   "id": "92eb3e8d",
   "metadata": {},
   "outputs": [],
   "source": [
    "# Compile the circuit in the simluator.\n",
    "compcircuit = qiskit.transpile(circuit, simulator)"
   ]
  },
  {
   "cell_type": "code",
   "execution_count": 13,
   "id": "31dc145e",
   "metadata": {},
   "outputs": [],
   "source": [
    "# Simulate the circuit 1000 times.\n",
    "job = simulator.run(compcircuit, shots=1000)"
   ]
  },
  {
   "cell_type": "code",
   "execution_count": 14,
   "id": "aa9325ca",
   "metadata": {},
   "outputs": [],
   "source": [
    "# Get the results.\n",
    "results = job.result()"
   ]
  },
  {
   "cell_type": "code",
   "execution_count": 15,
   "id": "7aa60252",
   "metadata": {},
   "outputs": [
    {
     "data": {
      "text/plain": [
       "{'0': 1000}"
      ]
     },
     "execution_count": 15,
     "metadata": {},
     "output_type": "execute_result"
    }
   ],
   "source": [
    "# Show the result counts.\n",
    "counts = results.get_counts()\n",
    "counts"
   ]
  },
  {
   "cell_type": "code",
   "execution_count": 16,
   "id": "a776bf26",
   "metadata": {},
   "outputs": [
    {
     "data": {
      "image/png": "[encoded data removed]",
      "text/plain": [
       "<Figure size 72x288 with 1 Axes>"
      ]
     },
     "execution_count": 16,
     "metadata": {},
     "output_type": "execute_result"
    }
   ],
   "source": [
    "# Display histogram\n",
    "qiskit.visualization.plot_histogram(counts, figsize=(1, 4))"
   ]
  },
  {
   "cell_type": "markdown",
   "id": "510960e9",
   "metadata": {},
   "source": [
    "### Constant One"
   ]
  },
  {
   "cell_type": "code",
   "execution_count": 17,
   "id": "ac214a7e",
   "metadata": {},
   "outputs": [
    {
     "data": {
      "image/png": "[encoded data removed]",
      "text/plain": [
       "<Figure size 589.054x368.424 with 1 Axes>"
      ]
     },
     "execution_count": 17,
     "metadata": {},
     "output_type": "execute_result"
    }
   ],
   "source": [
    "# Create a quantum circuit.\n",
    "circuit = qiskit.QuantumCircuit(2, 1)\n",
    "\n",
    "# Initialise the first qubit to |0>.\n",
    "circuit.initialize([1, 0], 0)\n",
    "\n",
    "# Initialise the second qubit to |1>.\n",
    "circuit.initialize([0, 1], 1)\n",
    "\n",
    "# Apply a Hadamard gate to each qubit.\n",
    "circuit.h((0, 1))\n",
    "\n",
    "# X gate.\n",
    "circuit.x(1)\n",
    "\n",
    "# Apply another Hadamard gate to the first qubit.\n",
    "circuit.h(0)\n",
    "\n",
    "# Measure the first qubit.\n",
    "circuit.measure(0, 0)\n",
    "\n",
    "# Draw the circuit.\n",
    "circuit.draw(output='mpl', scale=1.8)"
   ]
  },
  {
   "cell_type": "code",
   "execution_count": 18,
   "id": "d6f7e865",
   "metadata": {},
   "outputs": [
    {
     "data": {
      "image/png": "[encoded data removed]",
      "text/plain": [
       "<Figure size 72x288 with 1 Axes>"
      ]
     },
     "execution_count": 18,
     "metadata": {},
     "output_type": "execute_result"
    }
   ],
   "source": [
    "# Create a simulation instance.\n",
    "simulator = aer.QasmSimulator()\n",
    "\n",
    "# Compile the circuit in the simluator.\n",
    "compcircuit = qiskit.transpile(circuit, simulator)\n",
    "\n",
    "# Simulate the circuit 1000 times.\n",
    "job = simulator.run(compcircuit, shots=1000)\n",
    "\n",
    "# Get the results.\n",
    "results = job.result()\n",
    "\n",
    "# Show the result counts.\n",
    "counts = results.get_counts()\n",
    "\n",
    "# Display histogram\n",
    "qiskit.visualization.plot_histogram(counts, figsize=(1, 4))"
   ]
  },
  {
   "cell_type": "markdown",
   "id": "8e198b86",
   "metadata": {},
   "source": [
    "### Balanced - $f$(0) = 0,$f$(1) = 1"
   ]
  },
  {
   "cell_type": "code",
   "execution_count": 19,
   "id": "02ee303e",
   "metadata": {},
   "outputs": [
    {
     "data": {
      "image/png": "[encoded data removed]",
      "text/plain": [
       "<Figure size 697.414x368.424 with 1 Axes>"
      ]
     },
     "execution_count": 19,
     "metadata": {},
     "output_type": "execute_result"
    }
   ],
   "source": [
    "# Create a quantum circuit.\n",
    "circuit = qiskit.QuantumCircuit(2, 1)\n",
    "\n",
    "# Initialise the first qubit to |0>.\n",
    "circuit.initialize([1, 0], 0)\n",
    "\n",
    "# Initialise the second qubit to |1>.\n",
    "circuit.initialize([0, 1], 1)\n",
    "\n",
    "# Apply a Hadamard gate to each qubit.\n",
    "circuit.h((0, 1))\n",
    "\n",
    "# CNOT gate.\n",
    "circuit.cnot(0, 1)\n",
    "\n",
    "# Apply another Hadamard gate to the first qubit.\n",
    "circuit.h(0)\n",
    "\n",
    "# Measure the first qubit.\n",
    "circuit.measure(0, 0)\n",
    "\n",
    "# Draw the circuit.\n",
    "circuit.draw(output='mpl', scale=1.8)"
   ]
  },
  {
   "cell_type": "code",
   "execution_count": 20,
   "id": "9a5b4e8a",
   "metadata": {},
   "outputs": [
    {
     "data": {
      "image/png": "[encoded data removed]",
      "text/plain": [
       "<Figure size 72x288 with 1 Axes>"
      ]
     },
     "execution_count": 20,
     "metadata": {},
     "output_type": "execute_result"
    }
   ],
   "source": [
    "# Create a simulation instance.\n",
    "simulator = aer.QasmSimulator()\n",
    "\n",
    "# Compile the circuit in the simluator.\n",
    "compcircuit = qiskit.transpile(circuit, simulator)\n",
    "\n",
    "# Simulate the circuit 1000 times.\n",
    "job = simulator.run(compcircuit, shots=1000)\n",
    "\n",
    "# Get the results.\n",
    "results = job.result()\n",
    "\n",
    "# Show the result counts.\n",
    "counts = results.get_counts()\n",
    "\n",
    "# Display histogram\n",
    "qiskit.visualization.plot_histogram(counts, figsize=(1, 4))"
   ]
  },
  {
   "cell_type": "markdown",
   "id": "2418408a",
   "metadata": {},
   "source": [
    "### Balanced: $f$(0) = 1,$f$(1) = 0"
   ]
  },
  {
   "cell_type": "code",
   "execution_count": 21,
   "id": "c7d785a0",
   "metadata": {},
   "outputs": [
    {
     "data": {
      "image/png": "[encoded data removed]",
      "text/plain": [
       "<Figure size 697.414x368.424 with 1 Axes>"
      ]
     },
     "execution_count": 21,
     "metadata": {},
     "output_type": "execute_result"
    }
   ],
   "source": [
    "# Create a quantum circuit.\n",
    "circuit = qiskit.QuantumCircuit(2, 1)\n",
    "\n",
    "# Initialise the first qubit to |0>.\n",
    "circuit.initialize([1, 0], 0)\n",
    "\n",
    "# Initialise the second qubit to |1>.\n",
    "circuit.initialize([0, 1], 1)\n",
    "\n",
    "# Apply a Hadamard gate to each qubit.\n",
    "circuit.h((0, 1))\n",
    "\n",
    "# CNOT gate.\n",
    "circuit.cnot(0, 1)\n",
    "\n",
    "# Apply x to second qubit.\n",
    "circuit.x(1)\n",
    "\n",
    "# Apply another Hadamard gate to the first qubit.\n",
    "circuit.h(0)\n",
    "\n",
    "# Measure the first qubit.\n",
    "circuit.measure(0, 0)\n",
    "\n",
    "# Draw the circuit.\n",
    "circuit.draw(output='mpl', scale=1.8)"
   ]
  },
  {
   "cell_type": "code",
   "execution_count": 22,
   "id": "109d3c63",
   "metadata": {},
   "outputs": [
    {
     "data": {
      "image/png": "[encoded data removed]",
      "text/plain": [
       "<Figure size 72x288 with 1 Axes>"
      ]
     },
     "execution_count": 22,
     "metadata": {},
     "output_type": "execute_result"
    }
   ],
   "source": [
    "# Create a simulation instance.\n",
    "simulator = aer.QasmSimulator()\n",
    "\n",
    "# Compile the circuit in the simluator.\n",
    "compcircuit = qiskit.transpile(circuit, simulator)\n",
    "\n",
    "# Simulate the circuit 1000 times.\n",
    "job = simulator.run(compcircuit, shots=1000)\n",
    "\n",
    "# Get the results.\n",
    "results = job.result()\n",
    "\n",
    "# Show the result counts.\n",
    "counts = results.get_counts()\n",
    "\n",
    "# Display histogram\n",
    "qiskit.visualization.plot_histogram(counts, figsize=(1, 4))"
   ]
  },
  {
   "cell_type": "markdown",
   "id": "5f363f3b",
   "metadata": {},
   "source": [
    "### Deutsch's Algorithm with Random Function"
   ]
  },
  {
   "cell_type": "code",
   "execution_count": 23,
   "id": "010bb035",
   "metadata": {},
   "outputs": [],
   "source": [
    "# Return a random (part of) circuit - implementing the quantum oracle for f.\n",
    "def random_f():\n",
    "    # Create a circuit with 2 qubits, 1 classical bit.\n",
    "    circuit = qiskit.QuantumCircuit(2, 1)\n",
    "    \n",
    "    # Pick one of the four functions at random.\n",
    "    f_number = random.randint(1, 4)\n",
    "    \n",
    "    # 1: Constant 0 function. f(0) = f(1) = 0.\n",
    "    # 2: Constant 1 function. f(0) = f(1) = 1.\n",
    "    # 3: Balanced identity function. f(0) = 0, f(1) = 1.\n",
    "    # 4: Balanced not function. f(0) = 1, f(1) = 0.\n",
    "    \n",
    "    if f_number == 1:\n",
    "        # Apply Identity gate to second qubit.\n",
    "        circuit.i(1)\n",
    "    elif f_number == 2:\n",
    "        # Apply Pauli x gate to second qubit.\n",
    "        circuit.x(1)\n",
    "    elif f_number == 3:\n",
    "        # Apply CNOT gate to from first to second qubit.\n",
    "        circuit.cnot(0, 1)\n",
    "    elif f_number == 4:\n",
    "        # Apply CNOT gate to from first to second qubit.\n",
    "        circuit.cnot(0, 1)\n",
    "        # Apply Pauli x gate to second qubit.\n",
    "        circuit.x(1)\n",
    "    else:\n",
    "        print(\"Error!\")\n",
    "        \n",
    "    # Return the circuit.\n",
    "    return circuit"
   ]
  },
  {
   "cell_type": "markdown",
   "id": "503a3e6e",
   "metadata": {},
   "source": [
    "### First part of circuit"
   ]
  },
  {
   "cell_type": "code",
   "execution_count": 24,
   "id": "c6f22617",
   "metadata": {},
   "outputs": [
    {
     "data": {
      "image/png": "[encoded data removed]",
      "text/plain": [
       "<Figure size 480.694x368.424 with 1 Axes>"
      ]
     },
     "execution_count": 24,
     "metadata": {},
     "output_type": "execute_result"
    }
   ],
   "source": [
    "# Create a quantum circuit.\n",
    "circuit = qiskit.QuantumCircuit(2, 1)\n",
    "\n",
    "# Initialise the first qubit to |0>.\n",
    "circuit.initialize([1, 0], 0)\n",
    "\n",
    "# Initialise the second qubit to |1>.\n",
    "circuit.initialize([0, 1], 1)\n",
    "\n",
    "# Apply a Hadamard gate to each qubit.\n",
    "circuit.h((0, 1))\n",
    "\n",
    "# Separate parts of circuit.\n",
    "circuit.barrier()\n",
    "\n",
    "# Draw the circuit.\n",
    "circuit.draw(output='mpl', scale=1.8)"
   ]
  },
  {
   "cell_type": "markdown",
   "id": "9cba9816",
   "metadata": {},
   "source": [
    "### Second Part of Circuit"
   ]
  },
  {
   "cell_type": "code",
   "execution_count": 25,
   "id": "0f1bef14",
   "metadata": {},
   "outputs": [
    {
     "data": {
      "image/png": "[encoded data removed]",
      "text/plain": [
       "<Figure size 805.774x368.424 with 1 Axes>"
      ]
     },
     "execution_count": 25,
     "metadata": {},
     "output_type": "execute_result"
    }
   ],
   "source": [
    "# Append the random_f() circuit to circuit.\n",
    "circuit.compose(random_f(), inplace=True)\n",
    "\n",
    "# Separate parts of circuit.\n",
    "circuit.barrier()\n",
    "\n",
    "# Draw the circuit.\n",
    "circuit.draw(output='mpl', scale=1.8)"
   ]
  },
  {
   "cell_type": "markdown",
   "id": "ee7db7a3",
   "metadata": {},
   "source": [
    "### Third Part of Circuit"
   ]
  },
  {
   "cell_type": "code",
   "execution_count": 29,
   "id": "b1dcc56b",
   "metadata": {},
   "outputs": [
    {
     "data": {
      "image/png": "[encoded data removed]",
      "text/plain": [
       "<Figure size 1239.21x368.424 with 1 Axes>"
      ]
     },
     "execution_count": 29,
     "metadata": {},
     "output_type": "execute_result"
    }
   ],
   "source": [
    "# Apply another Hadamard gate to the first qubit.\n",
    "circuit.h(0)\n",
    "\n",
    "# Measure the first qubit.\n",
    "circuit.measure(0, 0)\n",
    "\n",
    "# Draw the circuit.\n",
    "circuit.draw(output='mpl', scale=1.8)"
   ]
  },
  {
   "cell_type": "markdown",
   "id": "bbbbead7",
   "metadata": {},
   "source": [
    "### Simulate and Decide"
   ]
  },
  {
   "cell_type": "code",
   "execution_count": 31,
   "id": "4dc6bdee",
   "metadata": {},
   "outputs": [
    {
     "data": {
      "image/png": "[encoded data removed]",
      "text/plain": [
       "<Figure size 72x288 with 1 Axes>"
      ]
     },
     "execution_count": 31,
     "metadata": {},
     "output_type": "execute_result"
    }
   ],
   "source": [
    "# Create a simulation instance.\n",
    "simulator = aer.QasmSimulator()\n",
    "\n",
    "# Compile the circuit in the simluator.\n",
    "compcircuit = qiskit.transpile(circuit, simulator)\n",
    "\n",
    "# Simulate the circuit 1000 times.\n",
    "job = simulator.run(compcircuit, shots=1000)\n",
    "\n",
    "# Get the results.\n",
    "results = job.result()\n",
    "\n",
    "# Show the result counts.\n",
    "counts = results.get_counts()\n",
    "\n",
    "# Display histogram\n",
    "qiskit.visualization.plot_histogram(counts, figsize=(1, 4))"
   ]
  },
  {
   "cell_type": "markdown",
   "id": "7238efdc",
   "metadata": {},
   "source": [
    "# References\n",
    "***"
   ]
  },
  {
   "cell_type": "markdown",
   "id": "b448f504",
   "metadata": {},
   "source": [
    "1. [Quantum vs Classical](https://www.cbinsights.com/research/quantum-computing-classical-computing-comparison-infographic/)\n",
    "\n",
    "2. [Moores Law](https://www.synopsys.com/glossary/what-is-moores-law.html#:~:text=Moore's%20law%20is%20a%20term,doubles%20about%20every%20two%20years.)\n",
    "\n",
    "3. [Qubit](https://en.wikipedia.org/wiki/Qubit)\n",
    "\n",
    "4. [Deutchs Algorithm](https://qiskit.org/textbook/ch-algorithms/deutsch-jozsa.html)\n",
    "\n",
    "5. [Markdown Maths syntax](https://csrgxtu.github.io/2015/03/20/Writing-Mathematic-Fomulars-in-Markdown/)"
   ]
  }
 ],
 "metadata": {
  "kernelspec": {
   "display_name": "Python 3",
   "language": "python",
   "name": "python3"
  },
  "language_info": {
   "codemirror_mode": {
    "name": "ipython",
    "version": 3
   },
   "file_extension": ".py",
   "mimetype": "text/x-python",
   "name": "python",
   "nbconvert_exporter": "python",
   "pygments_lexer": "ipython3",
   "version": "3.8.8"
  }
 },
 "nbformat": 4,
 "nbformat_minor": 5
}
