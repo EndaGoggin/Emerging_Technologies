{
 "cells": [
  {
   "cell_type": "markdown",
   "id": "a6311174",
   "metadata": {},
   "source": [
    "# Quantum Computing\n",
    "***"
   ]
  },
  {
   "cell_type": "markdown",
   "id": "b23c875e",
   "metadata": {},
   "source": [
    "### History and Overview"
   ]
  },
  {
   "cell_type": "markdown",
   "id": "7d7293b9",
   "metadata": {},
   "source": [
    "Computing has come a long way since the invention of the abacus that some consider the first computer. In the last 100 years the rate of evolution of technology has launched mankind into a new age. In 1965, Gordon Moore said that the number of transistors in a circuit would double every two years. This still holds true if you take it as meaning expenetial improvement rather than specific parameters like transistors."
   ]
  },
  {
   "cell_type": "markdown",
   "id": "eb181443",
   "metadata": {},
   "source": [
    "The smallest processor ever built has been 3nm but there are talks of a 1nm on coming in the near future. These tiny spaces are approaching the atom, which is theoretically the limit.\n",
    "A computer in simple terms, performs an extremely large amount of very basic operations. Each one of them take barely any power to perform and don't mean much by themselves but when there are so many they can be used to work together and produce everything we use computers for now.\n",
    "Transistors are like an on or off switch that tells the computer if a bit is 0 or 1, on for 1 and off for 0. Multiple switches can form logic gates that perform different operations. From there you can use and combination or logic gates to create the programs we have today. \n",
    "To get these even faster, and get past the increasingly difficulty of creating smaller and smaller processors. Quantum computing was invented."
   ]
  },
  {
   "cell_type": "markdown",
   "id": "412880e9",
   "metadata": {},
   "source": [
    "Computers that perform quantum computations are called quantum computers.\n",
    "These can perform quantum mechanics operations like superposition, interference and entaglement. The current ones are't developed enough to compete with classical computers in everyday life but Google has said that it's quantum computer is roughly 158 million times faster than a supercomputer"
   ]
  },
  {
   "cell_type": "markdown",
   "id": "8cb4725d",
   "metadata": {},
   "source": [
    "### What is Quantum Computing?"
   ]
  },
  {
   "cell_type": "markdown",
   "id": "86fa7b93",
   "metadata": {},
   "source": [
    "Quantum computers use qubits instead of normal bits, these can also be set to either 0 or 1 but instead of being in either state, qubits can be in either position unless it is observed and has to decide on its value. This is called **superposition**."
   ]
  },
  {
   "cell_type": "markdown",
   "id": "94ef2fb2",
   "metadata": {},
   "source": [
    "4 normal bits can give you 16 different combinations of 1's and 0's.\n",
    "\n",
    "4 Qubits in superposition can be every of the 16 combinations at the same time if unobserved.\n",
    "\n",
    "This allows qubits to give a lot more information.\n",
    "**Entaglement** also allows even more powerful calculation. Qubits can have a connection with another qubit that allows it to instantly make the other qubit decide on a value when itself decides on a value.\n",
    "\n",
    "Quantum computers have their own logic gate as well called ***Quantum Gates***.\n",
    "These Gates manipulate a series of superpositions to change the probability of what they will change to so they can predict what they will land on. This lets you get the answer to multiple operations at the same time."
   ]
  },
  {
   "cell_type": "markdown",
   "id": "e9b73811",
   "metadata": {},
   "source": [
    "### Classical Computing vs. Quantum computing"
   ]
  },
  {
   "cell_type": "markdown",
   "id": "2b07309f",
   "metadata": {},
   "source": [
    "While a lot faster at certain computation, it is hard to apply quantum computers to everyday problems right now because of how little is known about it. Both types of computers have there own strengths and differences to here is a few of the key areas where they do differ.\n",
    "\n",
    "**Classical Computers**\n",
    "1. Data breaks down in its smallest for to just multiple operations of on or off/1 or 0. These are done with transitors with each transitor being 1 or 0.\n",
    "\n",
    "2. Power with qubits increases exponetially, with just 20 qubits you can have over a million different values at once.\n",
    "\n",
    "3. While very fast, the quantum computer has a high error rate and needs to be kept very cold to run. This makes them difficult to commercialise.\n",
    "\n",
    "4. Quantum computers are currently seen as well suited for simulations and data analysis.\n",
    "\n",
    "**Quantum Computers**\n",
    "1. Instead of normal bits, quantum computers use qubits that can represent both states 0 or 1 at once. Combined with Entaglement and Quantum Gates. This allows for much faster computation.\n",
    "\n",
    "2. The power increase for classical computers is directly related to the amount of transistors so it is a 1: ratio with power to transistors.\n",
    "\n",
    "3. These computers in comparison have a low error rate and can perform at room temperature easily. This makes them a lot more comsumer friendly to adopt.\n",
    "\n",
    "4. The amount of useful applications is a lot more open for classical computers. They tend to excel in every place that a quantum computer can't and vice versa for the time being."
   ]
  },
  {
   "cell_type": "markdown",
   "id": "a3aef2ad",
   "metadata": {},
   "source": [
    "# Deutsch's Algorithm\n",
    "***"
   ]
  },
  {
   "cell_type": "markdown",
   "id": "013c8cfe",
   "metadata": {},
   "source": [
    "Deutsch's algorithm was first introduced in 1992 by David Deutsch. It was one of the first algorithms to show how much faster quantum computers where in comparison to classical ones. It was purposely design to show the speed of quantum computers over classical."
   ]
  },
  {
   "cell_type": "markdown",
   "id": "a7f59012",
   "metadata": {},
   "source": [
    "### The problem "
   ]
  },
  {
   "cell_type": "markdown",
   "id": "74911c37",
   "metadata": {},
   "source": [
    "In the problem you are given a black box quantum computer called oracle that has the function below."
   ]
  },
  {
   "attachments": {
    "f713c7fab3c3cb60f59ac3ca1cafddb734b927bd.svg": {
     "image/svg+xml": [
      "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"
     ]
    }
   },
   "cell_type": "markdown",
   "id": "5c6d36e5",
   "metadata": {},
   "source": [
    "![f713c7fab3c3cb60f59ac3ca1cafddb734b927bd.svg](attachment:f713c7fab3c3cb60f59ac3ca1cafddb734b927bd.svg)"
   ]
  },
  {
   "cell_type": "markdown",
   "id": "04451511",
   "metadata": {},
   "source": [
    "This function takes an *n* number of bits and outputs wither a 0 or 1 for each bit. The function is promised to be either constant or balanced. Meaning all inputs are either 0 or 1 for constant, or they are half and half with 0 and 1. The problem then asks to prove if $f$ is constant or balanced."
   ]
  },
  {
   "cell_type": "markdown",
   "id": "59e64884",
   "metadata": {},
   "source": [
    "### Deutsch's Algorithm with Qiskit"
   ]
  },
  {
   "cell_type": "code",
   "execution_count": 1,
   "id": "a6459c65",
   "metadata": {},
   "outputs": [],
   "source": [
    "# Qiskit itself\n",
    "import qiskit\n",
    "\n",
    "# Aer simulator.\n",
    "import qiskit.providers.aer as aer\n",
    "\n",
    "# Diagrams.\n",
    "import matplotlib.pyplot as plt\n",
    "\n",
    "# Random numbers.\n",
    "import random\n",
    "\n",
    "# Change pyplot style.\n",
    "plt.style.use('ggplot')"
   ]
  },
  {
   "cell_type": "markdown",
   "id": "2bc14fe3",
   "metadata": {},
   "source": [
    "### Constant Zero"
   ]
  },
  {
   "cell_type": "code",
   "execution_count": 2,
   "id": "907be3e8",
   "metadata": {},
   "outputs": [],
   "source": [
    "# Create a quantum circuit.\n",
    "circuit = qiskit.QuantumCircuit(2, 1)"
   ]
  },
  {
   "cell_type": "code",
   "execution_count": 3,
   "id": "04817ec8",
   "metadata": {},
   "outputs": [
    {
     "data": {
      "text/plain": [
       "<qiskit.circuit.instructionset.InstructionSet at 0x2df858a3ac0>"
      ]
     },
     "execution_count": 3,
     "metadata": {},
     "output_type": "execute_result"
    }
   ],
   "source": [
    "# Initialise the first qubit to |0>.\n",
    "circuit.initialize([1, 0], 0)"
   ]
  },
  {
   "cell_type": "code",
   "execution_count": 4,
   "id": "fbe365ee",
   "metadata": {},
   "outputs": [
    {
     "data": {
      "text/plain": [
       "<qiskit.circuit.instructionset.InstructionSet at 0x2df858a3b50>"
      ]
     },
     "execution_count": 4,
     "metadata": {},
     "output_type": "execute_result"
    }
   ],
   "source": [
    "# Initialise the second qubit to |1>.\n",
    "circuit.initialize([0, 1], 1)"
   ]
  },
  {
   "cell_type": "code",
   "execution_count": 5,
   "id": "fcd79fde",
   "metadata": {},
   "outputs": [
    {
     "data": {
      "text/plain": [
       "<qiskit.circuit.instructionset.InstructionSet at 0x2df858a33d0>"
      ]
     },
     "execution_count": 5,
     "metadata": {},
     "output_type": "execute_result"
    }
   ],
   "source": [
    "# Apply a Hadamard gate to first qubit.\n",
    "circuit.h(0)"
   ]
  },
  {
   "cell_type": "code",
   "execution_count": 6,
   "id": "5ab2c914",
   "metadata": {},
   "outputs": [
    {
     "data": {
      "text/plain": [
       "<qiskit.circuit.instructionset.InstructionSet at 0x2df858a3ca0>"
      ]
     },
     "execution_count": 6,
     "metadata": {},
     "output_type": "execute_result"
    }
   ],
   "source": [
    "# Apply a Hadamard gate to second qubit.\n",
    "circuit.h(1)"
   ]
  },
  {
   "cell_type": "code",
   "execution_count": 7,
   "id": "7e758432",
   "metadata": {},
   "outputs": [
    {
     "data": {
      "text/plain": [
       "<qiskit.circuit.instructionset.InstructionSet at 0x2df858a3a00>"
      ]
     },
     "execution_count": 7,
     "metadata": {},
     "output_type": "execute_result"
    }
   ],
   "source": [
    "# Identity gate.\n",
    "circuit.i(1)"
   ]
  },
  {
   "cell_type": "code",
   "execution_count": 8,
   "id": "b6051111",
   "metadata": {},
   "outputs": [
    {
     "data": {
      "text/plain": [
       "<qiskit.circuit.instructionset.InstructionSet at 0x2df858a38b0>"
      ]
     },
     "execution_count": 8,
     "metadata": {},
     "output_type": "execute_result"
    }
   ],
   "source": [
    "# Apply another Hadamard gate to the first qubit.\n",
    "circuit.h(0)"
   ]
  },
  {
   "cell_type": "code",
   "execution_count": 9,
   "id": "d605e020",
   "metadata": {},
   "outputs": [
    {
     "data": {
      "text/plain": [
       "<qiskit.circuit.instructionset.InstructionSet at 0x2df858a3d60>"
      ]
     },
     "execution_count": 9,
     "metadata": {},
     "output_type": "execute_result"
    }
   ],
   "source": [
    "# Measure the first qubit.\n",
    "circuit.measure(0, 0)"
   ]
  },
  {
   "cell_type": "code",
   "execution_count": 10,
   "id": "0c9ea497",
   "metadata": {},
   "outputs": [
    {
     "data": {
      "image/png": "[encoded data removed]",
      "text/plain": [
       "<Figure size 589.054x368.424 with 1 Axes>"
      ]
     },
     "execution_count": 10,
     "metadata": {},
     "output_type": "execute_result"
    }
   ],
   "source": [
    "# Draw the circuit.\n",
    "circuit.draw(output='mpl', scale=1.8)"
   ]
  },
  {
   "cell_type": "code",
   "execution_count": 11,
   "id": "a70ddcd6",
   "metadata": {},
   "outputs": [],
   "source": [
    "# Create a simulation instance.\n",
    "simulator = aer.QasmSimulator()"
   ]
  },
  {
   "cell_type": "code",
   "execution_count": 12,
   "id": "c98a1541",
   "metadata": {},
   "outputs": [],
   "source": [
    "# Compile the circuit in the simluator.\n",
    "compcircuit = qiskit.transpile(circuit, simulator)"
   ]
  },
  {
   "cell_type": "code",
   "execution_count": 13,
   "id": "dbcbb0fb",
   "metadata": {},
   "outputs": [],
   "source": [
    "# Simulate the circuit 1000 times.\n",
    "job = simulator.run(compcircuit, shots=1000)"
   ]
  },
  {
   "cell_type": "code",
   "execution_count": 14,
   "id": "2bbd2912",
   "metadata": {},
   "outputs": [],
   "source": [
    "# Get the results.\n",
    "results = job.result()"
   ]
  },
  {
   "cell_type": "code",
   "execution_count": 15,
   "id": "7395d3bf",
   "metadata": {},
   "outputs": [
    {
     "data": {
      "text/plain": [
       "{'0': 1000}"
      ]
     },
     "execution_count": 15,
     "metadata": {},
     "output_type": "execute_result"
    }
   ],
   "source": [
    "# Show the result counts.\n",
    "counts = results.get_counts()\n",
    "counts"
   ]
  },
  {
   "cell_type": "code",
   "execution_count": 16,
   "id": "677f95da",
   "metadata": {},
   "outputs": [
    {
     "data": {
      "image/png": "[encoded data removed]",
      "text/plain": [
       "<Figure size 72x288 with 1 Axes>"
      ]
     },
     "execution_count": 16,
     "metadata": {},
     "output_type": "execute_result"
    }
   ],
   "source": [
    "# Display histogram\n",
    "qiskit.visualization.plot_histogram(counts, figsize=(1, 4))"
   ]
  },
  {
   "cell_type": "markdown",
   "id": "b18aaa71",
   "metadata": {},
   "source": []
  },
  {
   "cell_type": "code",
   "execution_count": null,
   "id": "bc1d6f87",
   "metadata": {},
   "outputs": [],
   "source": []
  },
  {
   "cell_type": "code",
   "execution_count": null,
   "id": "f55ece13",
   "metadata": {},
   "outputs": [],
   "source": []
  },
  {
   "cell_type": "code",
   "execution_count": null,
   "id": "b6ad42a9",
   "metadata": {},
   "outputs": [],
   "source": []
  }
 ],
 "metadata": {
  "kernelspec": {
   "display_name": "Python 3",
   "language": "python",
   "name": "python3"
  },
  "language_info": {
   "codemirror_mode": {
    "name": "ipython",
    "version": 3
   },
   "file_extension": ".py",
   "mimetype": "text/x-python",
   "name": "python",
   "nbconvert_exporter": "python",
   "pygments_lexer": "ipython3",
   "version": "3.8.8"
  }
 },
 "nbformat": 4,
 "nbformat_minor": 5
}
