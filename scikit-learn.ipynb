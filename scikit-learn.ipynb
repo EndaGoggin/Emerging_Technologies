{
 "cells": [
  {
   "cell_type": "markdown",
   "id": "792da00a",
   "metadata": {},
   "source": [
    "![title](Images/scikitlogo.png)"
   ]
  },
  {
   "cell_type": "markdown",
   "id": "99405e3a",
   "metadata": {},
   "source": [
    "# Scikit-learn Overview\n",
    "***"
   ]
  },
  {
   "cell_type": "markdown",
   "id": "4677cf80",
   "metadata": {},
   "source": [
    "### What is it?"
   ]
  },
  {
   "cell_type": "markdown",
   "id": "184ed23c",
   "metadata": {},
   "source": [
    "Scikit-learn is a free and open source software that provides tools for predictive data analysis in python. Its main algorithms are *Classification*, *Regression*, *Clustering*, *Dimensionality reduction*, *Model selection and *Preprocessing*. These can all be used to visualise data in many different ways."
   ]
  },
  {
   "cell_type": "markdown",
   "id": "74e92bd3",
   "metadata": {},
   "source": [
    "Scikit is built upon NumPy, SciPy and matplotlib.\n",
    "\n",
    "**NumPy** - A python library used for manipulating arrays that aims to be up to 50x faster than using standard lists.\n",
    "\n",
    "**SciPy** - Built upon NumPy itself, this library aims to allow for more optimization, statistics and signal processing. Very useful for data science.\n",
    "\n",
    "**matplotlib** - A cross-platform data visualisation tool that is used for plotting graphs to a GUI. This also uses NumPy."
   ]
  },
  {
   "cell_type": "markdown",
   "id": "b3e1eaa4",
   "metadata": {},
   "source": [
    "### Where is it used?\n"
   ]
  },
  {
   "cell_type": "markdown",
   "id": "03019e51",
   "metadata": {},
   "source": [
    "Here are a few examples of different ways skikit-learn is being used in the indisutry currently.\n",
    "\n",
    "**Spotify** -  The main use for sckicit in Spotify is for music recommendation to its users. One of their employees working with machine learning called it [\"The most well-designed ML package I've ever seen\"](https://scikit-learn.org/stable/testimonials/testimonials.html#:~:text=Scikit%2Dlearn%20is%20an%20indispensable,many%20other%20machine%20learning%20tasks.)"
   ]
  },
  {
   "cell_type": "markdown",
   "id": "cea19ba1",
   "metadata": {},
   "source": [
    "**J.P.Morgan** - Skicit is used at J.P.Morgan for classification, predictive analytics and many other machine learning tasks in their bank. "
   ]
  },
  {
   "cell_type": "markdown",
   "id": "83cc172e",
   "metadata": {},
   "source": [
    "**Booking.com** - Machine learning is used for recommendations for hotels and destinations, fraud detection and scheduling customer service agents. They use scikit for all of these and praise its API and documentation."
   ]
  },
  {
   "cell_type": "markdown",
   "id": "7ed61e69",
   "metadata": {},
   "source": [
    "### Different Algorithms\n"
   ]
  },
  {
   "cell_type": "markdown",
   "id": "08bb18f0",
   "metadata": {},
   "source": [
    "Scikit allows the use of 6 different algorithms for data processing.\n",
    "\n",
    "**Classification** -Identifying which category an object belongs to.\n",
    "\n",
    "**Regression** - Predicting a continuous-valued attribute associated with an object.\n",
    "\n",
    "**Clustering** - Automatic grouping of similar objects into sets.\n",
    "\n",
    "**Dimensionality reduction** - Reducing the number of random variables to consider.\n",
    "\n",
    "**Model selection** - Comparing, validating and choosing parameters and models.\n",
    "\n",
    "**Preprocessing** - Feature extraction and normalization."
   ]
  },
  {
   "cell_type": "code",
   "execution_count": null,
   "id": "8a0f0a12",
   "metadata": {},
   "outputs": [],
   "source": []
  }
 ],
 "metadata": {
  "kernelspec": {
   "display_name": "Python 3",
   "language": "python",
   "name": "python3"
  },
  "language_info": {
   "codemirror_mode": {
    "name": "ipython",
    "version": 3
   },
   "file_extension": ".py",
   "mimetype": "text/x-python",
   "name": "python",
   "nbconvert_exporter": "python",
   "pygments_lexer": "ipython3",
   "version": "3.8.8"
  }
 },
 "nbformat": 4,
 "nbformat_minor": 5
}
